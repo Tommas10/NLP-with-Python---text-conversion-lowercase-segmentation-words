{
 "cells": [
  {
   "cell_type": "code",
   "execution_count": 3,
   "metadata": {},
   "outputs": [
    {
     "data": {
      "text/plain": [
       "['you', 'say', 'goodbye', 'and', 'i', 'say', 'hello.']"
      ]
     },
     "execution_count": 3,
     "metadata": {},
     "output_type": "execute_result"
    }
   ],
   "source": [
    "text='You say goodbye and I say hello.'\n",
    "text=text.lower()\n",
    "#使用了 lower( ) 方法，把全部的文本轉換成小寫，這是為了讓文章開頭的字詞也能當作共通字詞處理所作的處置。\n",
    "text=text.replace(',','.')\n",
    "#方法replace（）返回字符串的副本，其中old的出現已被new替換，可選地將替換次數限制為max。\n",
    "words=text.split(' ')\n",
    "#利用 split('  ') ，把空格當作「分隔字元」，進行分割。但是，這裡要考慮到文末的句號 ( . )，\n",
    "#在句號前面插入空格，正確來說是把「 . 」轉換成 「 .」再進行分割。 \n",
    "words\n",
    "#印出轉換小寫，然後進行分割的結果"
   ]
  },
  {
   "cell_type": "code",
   "execution_count": null,
   "metadata": {},
   "outputs": [],
   "source": []
  }
 ],
 "metadata": {
  "kernelspec": {
   "display_name": "Python 3",
   "language": "python",
   "name": "python3"
  },
  "language_info": {
   "codemirror_mode": {
    "name": "ipython",
    "version": 3
   },
   "file_extension": ".py",
   "mimetype": "text/x-python",
   "name": "python",
   "nbconvert_exporter": "python",
   "pygments_lexer": "ipython3",
   "version": "3.7.3"
  }
 },
 "nbformat": 4,
 "nbformat_minor": 2
}
